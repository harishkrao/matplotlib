{
 "cells": [
  {
   "cell_type": "code",
   "execution_count": 1,
   "metadata": {
    "collapsed": true
   },
   "outputs": [],
   "source": [
    "import pandas as pd\n",
    "import warnings\n",
    "warnings.filterwarnings(\"ignore\")\n",
    "import matplotlib.patches as mpatches \n",
    "%matplotlib inline\n",
    "import seaborn as sns\n",
    "sns.set(style=\"white\",color_codes=True)\n",
    "\n",
    "import matplotlib.pyplot as plt"
   ]
  },
  {
   "cell_type": "code",
   "execution_count": 15,
   "metadata": {
    "collapsed": true
   },
   "outputs": [],
   "source": [
    "grad_students = pd.read_csv(\"/Users/Harish/Documents/HK_Work/Machine Learning/fivethirtyeight/data/college-majors/grad-students.csv\")"
   ]
  },
  {
   "cell_type": "code",
   "execution_count": 20,
   "metadata": {
    "collapsed": true
   },
   "outputs": [],
   "source": [
    "sorted_desc_grad_total = grad_students.sort_values(by='Grad_total',ascending=0)"
   ]
  },
  {
   "cell_type": "code",
   "execution_count": 21,
   "metadata": {
    "collapsed": false
   },
   "outputs": [
    {
     "data": {
      "text/html": [
       "<div>\n",
       "<table border=\"1\" class=\"dataframe\">\n",
       "  <thead>\n",
       "    <tr style=\"text-align: right;\">\n",
       "      <th></th>\n",
       "      <th>Major_code</th>\n",
       "      <th>Major</th>\n",
       "      <th>Major_category</th>\n",
       "      <th>Grad_total</th>\n",
       "      <th>Grad_sample_size</th>\n",
       "      <th>Grad_employed</th>\n",
       "      <th>Grad_full_time_year_round</th>\n",
       "      <th>Grad_unemployed</th>\n",
       "      <th>Grad_unemployment_rate</th>\n",
       "      <th>Grad_median</th>\n",
       "      <th>...</th>\n",
       "      <th>Nongrad_total</th>\n",
       "      <th>Nongrad_employed</th>\n",
       "      <th>Nongrad_full_time_year_round</th>\n",
       "      <th>Nongrad_unemployed</th>\n",
       "      <th>Nongrad_unemployment_rate</th>\n",
       "      <th>Nongrad_median</th>\n",
       "      <th>Nongrad_P25</th>\n",
       "      <th>Nongrad_P75</th>\n",
       "      <th>Grad_share</th>\n",
       "      <th>Grad_premium</th>\n",
       "    </tr>\n",
       "  </thead>\n",
       "  <tbody>\n",
       "    <tr>\n",
       "      <th>119</th>\n",
       "      <td>5200</td>\n",
       "      <td>PSYCHOLOGY</td>\n",
       "      <td>Psychology &amp; Social Work</td>\n",
       "      <td>1184158</td>\n",
       "      <td>20547</td>\n",
       "      <td>915341</td>\n",
       "      <td>666630</td>\n",
       "      <td>35718</td>\n",
       "      <td>0.037556</td>\n",
       "      <td>64000.0</td>\n",
       "      <td>...</td>\n",
       "      <td>1322161</td>\n",
       "      <td>938016</td>\n",
       "      <td>689146</td>\n",
       "      <td>64552</td>\n",
       "      <td>0.064387</td>\n",
       "      <td>46000.0</td>\n",
       "      <td>32200</td>\n",
       "      <td>70000.0</td>\n",
       "      <td>0.472469</td>\n",
       "      <td>0.391304</td>\n",
       "    </tr>\n",
       "    <tr>\n",
       "      <th>107</th>\n",
       "      <td>2300</td>\n",
       "      <td>GENERAL EDUCATION</td>\n",
       "      <td>Education</td>\n",
       "      <td>1128727</td>\n",
       "      <td>13846</td>\n",
       "      <td>698049</td>\n",
       "      <td>507406</td>\n",
       "      <td>24083</td>\n",
       "      <td>0.033350</td>\n",
       "      <td>58000.0</td>\n",
       "      <td>...</td>\n",
       "      <td>1388324</td>\n",
       "      <td>805371</td>\n",
       "      <td>573139</td>\n",
       "      <td>35180</td>\n",
       "      <td>0.041853</td>\n",
       "      <td>44000.0</td>\n",
       "      <td>32000</td>\n",
       "      <td>60000.0</td>\n",
       "      <td>0.448432</td>\n",
       "      <td>0.318182</td>\n",
       "    </tr>\n",
       "    <tr>\n",
       "      <th>104</th>\n",
       "      <td>2304</td>\n",
       "      <td>ELEMENTARY EDUCATION</td>\n",
       "      <td>Education</td>\n",
       "      <td>1105607</td>\n",
       "      <td>15410</td>\n",
       "      <td>668185</td>\n",
       "      <td>438791</td>\n",
       "      <td>13889</td>\n",
       "      <td>0.020363</td>\n",
       "      <td>55000.0</td>\n",
       "      <td>...</td>\n",
       "      <td>1379686</td>\n",
       "      <td>762114</td>\n",
       "      <td>476855</td>\n",
       "      <td>28714</td>\n",
       "      <td>0.036309</td>\n",
       "      <td>40000.0</td>\n",
       "      <td>32000</td>\n",
       "      <td>51000.0</td>\n",
       "      <td>0.444860</td>\n",
       "      <td>0.375000</td>\n",
       "    </tr>\n",
       "    <tr>\n",
       "      <th>152</th>\n",
       "      <td>3600</td>\n",
       "      <td>BIOLOGY</td>\n",
       "      <td>Biology &amp; Life Science</td>\n",
       "      <td>1085977</td>\n",
       "      <td>21994</td>\n",
       "      <td>898342</td>\n",
       "      <td>703347</td>\n",
       "      <td>19368</td>\n",
       "      <td>0.021105</td>\n",
       "      <td>95000.0</td>\n",
       "      <td>...</td>\n",
       "      <td>718231</td>\n",
       "      <td>512669</td>\n",
       "      <td>394936</td>\n",
       "      <td>28639</td>\n",
       "      <td>0.052907</td>\n",
       "      <td>54000.0</td>\n",
       "      <td>37000</td>\n",
       "      <td>80000.0</td>\n",
       "      <td>0.601913</td>\n",
       "      <td>0.759259</td>\n",
       "    </tr>\n",
       "    <tr>\n",
       "      <th>114</th>\n",
       "      <td>3301</td>\n",
       "      <td>ENGLISH LANGUAGE AND LITERATURE</td>\n",
       "      <td>Humanities &amp; Liberal Arts</td>\n",
       "      <td>881433</td>\n",
       "      <td>13688</td>\n",
       "      <td>598806</td>\n",
       "      <td>420936</td>\n",
       "      <td>25330</td>\n",
       "      <td>0.040584</td>\n",
       "      <td>67000.0</td>\n",
       "      <td>...</td>\n",
       "      <td>1018267</td>\n",
       "      <td>650188</td>\n",
       "      <td>457320</td>\n",
       "      <td>45414</td>\n",
       "      <td>0.065287</td>\n",
       "      <td>50000.0</td>\n",
       "      <td>34600</td>\n",
       "      <td>78000.0</td>\n",
       "      <td>0.463985</td>\n",
       "      <td>0.340000</td>\n",
       "    </tr>\n",
       "  </tbody>\n",
       "</table>\n",
       "<p>5 rows × 22 columns</p>\n",
       "</div>"
      ],
      "text/plain": [
       "     Major_code                            Major             Major_category  \\\n",
       "119        5200                       PSYCHOLOGY   Psychology & Social Work   \n",
       "107        2300                GENERAL EDUCATION                  Education   \n",
       "104        2304             ELEMENTARY EDUCATION                  Education   \n",
       "152        3600                          BIOLOGY     Biology & Life Science   \n",
       "114        3301  ENGLISH LANGUAGE AND LITERATURE  Humanities & Liberal Arts   \n",
       "\n",
       "     Grad_total  Grad_sample_size  Grad_employed  Grad_full_time_year_round  \\\n",
       "119     1184158             20547         915341                     666630   \n",
       "107     1128727             13846         698049                     507406   \n",
       "104     1105607             15410         668185                     438791   \n",
       "152     1085977             21994         898342                     703347   \n",
       "114      881433             13688         598806                     420936   \n",
       "\n",
       "     Grad_unemployed  Grad_unemployment_rate  Grad_median      ...       \\\n",
       "119            35718                0.037556      64000.0      ...        \n",
       "107            24083                0.033350      58000.0      ...        \n",
       "104            13889                0.020363      55000.0      ...        \n",
       "152            19368                0.021105      95000.0      ...        \n",
       "114            25330                0.040584      67000.0      ...        \n",
       "\n",
       "     Nongrad_total  Nongrad_employed  Nongrad_full_time_year_round  \\\n",
       "119        1322161            938016                        689146   \n",
       "107        1388324            805371                        573139   \n",
       "104        1379686            762114                        476855   \n",
       "152         718231            512669                        394936   \n",
       "114        1018267            650188                        457320   \n",
       "\n",
       "     Nongrad_unemployed  Nongrad_unemployment_rate  Nongrad_median  \\\n",
       "119               64552                   0.064387         46000.0   \n",
       "107               35180                   0.041853         44000.0   \n",
       "104               28714                   0.036309         40000.0   \n",
       "152               28639                   0.052907         54000.0   \n",
       "114               45414                   0.065287         50000.0   \n",
       "\n",
       "     Nongrad_P25  Nongrad_P75  Grad_share  Grad_premium  \n",
       "119        32200      70000.0    0.472469      0.391304  \n",
       "107        32000      60000.0    0.448432      0.318182  \n",
       "104        32000      51000.0    0.444860      0.375000  \n",
       "152        37000      80000.0    0.601913      0.759259  \n",
       "114        34600      78000.0    0.463985      0.340000  \n",
       "\n",
       "[5 rows x 22 columns]"
      ]
     },
     "execution_count": 21,
     "metadata": {},
     "output_type": "execute_result"
    }
   ],
   "source": [
    "sorted_desc_grad_total.head()"
   ]
  },
  {
   "cell_type": "code",
   "execution_count": 28,
   "metadata": {
    "collapsed": false
   },
   "outputs": [
    {
     "data": {
      "text/plain": [
       "<seaborn.axisgrid.FacetGrid at 0x118670b70>"
      ]
     },
     "execution_count": 28,
     "metadata": {},
     "output_type": "execute_result"
    },
    {
     "data": {
      "image/png": "[encoded data removed]",
      "text/plain": [
       "<matplotlib.figure.Figure at 0x118670240>"
      ]
     },
     "metadata": {},
     "output_type": "display_data"
    }
   ],
   "source": [
    "sns.FacetGrid(sorted_desc_grad_total.head(n=10),hue=\"Major\",size=7)\\\n",
    ".map(plt.scatter,\"Grad_total\",\"Major_code\")\\\n",
    ".add_legend()"
   ]
  }
 ],
 "metadata": {
  "anaconda-cloud": {},
  "kernelspec": {
   "display_name": "Python [Root]",
   "language": "python",
   "name": "Python [Root]"
  },
  "language_info": {
   "codemirror_mode": {
    "name": "ipython",
    "version": 3
   },
   "file_extension": ".py",
   "mimetype": "text/x-python",
   "name": "python",
   "nbconvert_exporter": "python",
   "pygments_lexer": "ipython3",
   "version": "3.5.2"
  }
 },
 "nbformat": 4,
 "nbformat_minor": 0
}
