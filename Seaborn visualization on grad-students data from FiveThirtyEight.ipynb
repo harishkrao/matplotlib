{
 "cells": [
  {
   "cell_type": "code",
   "execution_count": 19,
   "metadata": {
    "collapsed": true
   },
   "outputs": [],
   "source": [
    "import pandas as pd\n",
    "import warnings\n",
    "warnings.filterwarnings(\"ignore\")\n",
    "import matplotlib.patches as mpatches \n",
    "%matplotlib inline\n",
    "import seaborn as sns\n",
    "sns.set(style=\"white\",color_codes=True)\n",
    "\n",
    "import matplotlib.pyplot as plt"
   ]
  },
  {
   "cell_type": "code",
   "execution_count": 2,
   "metadata": {
    "collapsed": true
   },
   "outputs": [],
   "source": [
    "grad_students = pd.read_csv(\"/Users/Harish/Documents/HK_Work/Machine Learning/fivethirtyeight/data/college-majors/grad-students.csv\")"
   ]
  },
  {
   "cell_type": "code",
   "execution_count": 10,
   "metadata": {
    "collapsed": false
   },
   "outputs": [],
   "source": [
    "grad_students_sub = grad_students.head()"
   ]
  },
  {
   "cell_type": "code",
   "execution_count": 13,
   "metadata": {
    "collapsed": false
   },
   "outputs": [
    {
     "data": {
      "text/html": [
       "<div>\n",
       "<table border=\"1\" class=\"dataframe\">\n",
       "  <thead>\n",
       "    <tr style=\"text-align: right;\">\n",
       "      <th></th>\n",
       "      <th>Major_code</th>\n",
       "      <th>Major</th>\n",
       "      <th>Major_category</th>\n",
       "      <th>Grad_total</th>\n",
       "      <th>Grad_sample_size</th>\n",
       "      <th>Grad_employed</th>\n",
       "      <th>Grad_full_time_year_round</th>\n",
       "      <th>Grad_unemployed</th>\n",
       "      <th>Grad_unemployment_rate</th>\n",
       "      <th>Grad_median</th>\n",
       "      <th>...</th>\n",
       "      <th>Nongrad_total</th>\n",
       "      <th>Nongrad_employed</th>\n",
       "      <th>Nongrad_full_time_year_round</th>\n",
       "      <th>Nongrad_unemployed</th>\n",
       "      <th>Nongrad_unemployment_rate</th>\n",
       "      <th>Nongrad_median</th>\n",
       "      <th>Nongrad_P25</th>\n",
       "      <th>Nongrad_P75</th>\n",
       "      <th>Grad_share</th>\n",
       "      <th>Grad_premium</th>\n",
       "    </tr>\n",
       "  </thead>\n",
       "  <tbody>\n",
       "    <tr>\n",
       "      <th>0</th>\n",
       "      <td>5601</td>\n",
       "      <td>CONSTRUCTION SERVICES</td>\n",
       "      <td>Industrial Arts &amp; Consumer Services</td>\n",
       "      <td>9173</td>\n",
       "      <td>200</td>\n",
       "      <td>7098</td>\n",
       "      <td>6511</td>\n",
       "      <td>681</td>\n",
       "      <td>0.087543</td>\n",
       "      <td>75000.0</td>\n",
       "      <td>...</td>\n",
       "      <td>86062</td>\n",
       "      <td>73607</td>\n",
       "      <td>62435</td>\n",
       "      <td>3928</td>\n",
       "      <td>0.050661</td>\n",
       "      <td>65000.0</td>\n",
       "      <td>47000</td>\n",
       "      <td>98000.0</td>\n",
       "      <td>0.096320</td>\n",
       "      <td>0.153846</td>\n",
       "    </tr>\n",
       "    <tr>\n",
       "      <th>1</th>\n",
       "      <td>6004</td>\n",
       "      <td>COMMERCIAL ART AND GRAPHIC DESIGN</td>\n",
       "      <td>Arts</td>\n",
       "      <td>53864</td>\n",
       "      <td>882</td>\n",
       "      <td>40492</td>\n",
       "      <td>29553</td>\n",
       "      <td>2482</td>\n",
       "      <td>0.057756</td>\n",
       "      <td>60000.0</td>\n",
       "      <td>...</td>\n",
       "      <td>461977</td>\n",
       "      <td>347166</td>\n",
       "      <td>250596</td>\n",
       "      <td>25484</td>\n",
       "      <td>0.068386</td>\n",
       "      <td>48000.0</td>\n",
       "      <td>34000</td>\n",
       "      <td>71000.0</td>\n",
       "      <td>0.104420</td>\n",
       "      <td>0.250000</td>\n",
       "    </tr>\n",
       "    <tr>\n",
       "      <th>2</th>\n",
       "      <td>6211</td>\n",
       "      <td>HOSPITALITY MANAGEMENT</td>\n",
       "      <td>Business</td>\n",
       "      <td>24417</td>\n",
       "      <td>437</td>\n",
       "      <td>18368</td>\n",
       "      <td>14784</td>\n",
       "      <td>1465</td>\n",
       "      <td>0.073867</td>\n",
       "      <td>65000.0</td>\n",
       "      <td>...</td>\n",
       "      <td>179335</td>\n",
       "      <td>145597</td>\n",
       "      <td>113579</td>\n",
       "      <td>7409</td>\n",
       "      <td>0.048423</td>\n",
       "      <td>50000.0</td>\n",
       "      <td>35000</td>\n",
       "      <td>75000.0</td>\n",
       "      <td>0.119837</td>\n",
       "      <td>0.300000</td>\n",
       "    </tr>\n",
       "    <tr>\n",
       "      <th>3</th>\n",
       "      <td>2201</td>\n",
       "      <td>COSMETOLOGY SERVICES AND CULINARY ARTS</td>\n",
       "      <td>Industrial Arts &amp; Consumer Services</td>\n",
       "      <td>5411</td>\n",
       "      <td>72</td>\n",
       "      <td>3590</td>\n",
       "      <td>2701</td>\n",
       "      <td>316</td>\n",
       "      <td>0.080901</td>\n",
       "      <td>47000.0</td>\n",
       "      <td>...</td>\n",
       "      <td>37575</td>\n",
       "      <td>29738</td>\n",
       "      <td>23249</td>\n",
       "      <td>1661</td>\n",
       "      <td>0.052900</td>\n",
       "      <td>41600.0</td>\n",
       "      <td>29000</td>\n",
       "      <td>60000.0</td>\n",
       "      <td>0.125878</td>\n",
       "      <td>0.129808</td>\n",
       "    </tr>\n",
       "    <tr>\n",
       "      <th>4</th>\n",
       "      <td>2001</td>\n",
       "      <td>COMMUNICATION TECHNOLOGIES</td>\n",
       "      <td>Computers &amp; Mathematics</td>\n",
       "      <td>9109</td>\n",
       "      <td>171</td>\n",
       "      <td>7512</td>\n",
       "      <td>5622</td>\n",
       "      <td>466</td>\n",
       "      <td>0.058411</td>\n",
       "      <td>57000.0</td>\n",
       "      <td>...</td>\n",
       "      <td>53819</td>\n",
       "      <td>43163</td>\n",
       "      <td>34231</td>\n",
       "      <td>3389</td>\n",
       "      <td>0.072800</td>\n",
       "      <td>52000.0</td>\n",
       "      <td>36000</td>\n",
       "      <td>78000.0</td>\n",
       "      <td>0.144753</td>\n",
       "      <td>0.096154</td>\n",
       "    </tr>\n",
       "  </tbody>\n",
       "</table>\n",
       "<p>5 rows × 22 columns</p>\n",
       "</div>"
      ],
      "text/plain": [
       "   Major_code                                   Major  \\\n",
       "0        5601                   CONSTRUCTION SERVICES   \n",
       "1        6004       COMMERCIAL ART AND GRAPHIC DESIGN   \n",
       "2        6211                  HOSPITALITY MANAGEMENT   \n",
       "3        2201  COSMETOLOGY SERVICES AND CULINARY ARTS   \n",
       "4        2001              COMMUNICATION TECHNOLOGIES   \n",
       "\n",
       "                        Major_category  Grad_total  Grad_sample_size  \\\n",
       "0  Industrial Arts & Consumer Services        9173               200   \n",
       "1                                 Arts       53864               882   \n",
       "2                             Business       24417               437   \n",
       "3  Industrial Arts & Consumer Services        5411                72   \n",
       "4              Computers & Mathematics        9109               171   \n",
       "\n",
       "   Grad_employed  Grad_full_time_year_round  Grad_unemployed  \\\n",
       "0           7098                       6511              681   \n",
       "1          40492                      29553             2482   \n",
       "2          18368                      14784             1465   \n",
       "3           3590                       2701              316   \n",
       "4           7512                       5622              466   \n",
       "\n",
       "   Grad_unemployment_rate  Grad_median      ...       Nongrad_total  \\\n",
       "0                0.087543      75000.0      ...               86062   \n",
       "1                0.057756      60000.0      ...              461977   \n",
       "2                0.073867      65000.0      ...              179335   \n",
       "3                0.080901      47000.0      ...               37575   \n",
       "4                0.058411      57000.0      ...               53819   \n",
       "\n",
       "   Nongrad_employed  Nongrad_full_time_year_round  Nongrad_unemployed  \\\n",
       "0             73607                         62435                3928   \n",
       "1            347166                        250596               25484   \n",
       "2            145597                        113579                7409   \n",
       "3             29738                         23249                1661   \n",
       "4             43163                         34231                3389   \n",
       "\n",
       "   Nongrad_unemployment_rate  Nongrad_median  Nongrad_P25  Nongrad_P75  \\\n",
       "0                   0.050661         65000.0        47000      98000.0   \n",
       "1                   0.068386         48000.0        34000      71000.0   \n",
       "2                   0.048423         50000.0        35000      75000.0   \n",
       "3                   0.052900         41600.0        29000      60000.0   \n",
       "4                   0.072800         52000.0        36000      78000.0   \n",
       "\n",
       "   Grad_share  Grad_premium  \n",
       "0    0.096320      0.153846  \n",
       "1    0.104420      0.250000  \n",
       "2    0.119837      0.300000  \n",
       "3    0.125878      0.129808  \n",
       "4    0.144753      0.096154  \n",
       "\n",
       "[5 rows x 22 columns]"
      ]
     },
     "execution_count": 13,
     "metadata": {},
     "output_type": "execute_result"
    }
   ],
   "source": [
    "grad_students_sub"
   ]
  },
  {
   "cell_type": "code",
   "execution_count": 17,
   "metadata": {
    "collapsed": false
   },
   "outputs": [
    {
     "data": {
      "text/plain": [
       "<seaborn.axisgrid.JointGrid at 0x11c4a5748>"
      ]
     },
     "execution_count": 17,
     "metadata": {},
     "output_type": "execute_result"
    },
    {
     "data": {
      "image/png": "[encoded data removed]",
      "text/plain": [
       "<matplotlib.figure.Figure at 0x11c1c93c8>"
      ]
     },
     "metadata": {},
     "output_type": "display_data"
    }
   ],
   "source": [
    "sns.jointplot(x=\"Major_code\",y=\"Grad_total\",data=grad_students_sub,size=5)"
   ]
  },
  {
   "cell_type": "code",
   "execution_count": 20,
   "metadata": {
    "collapsed": false
   },
   "outputs": [
    {
     "data": {
      "text/plain": [
       "<seaborn.axisgrid.FacetGrid at 0x11c8074a8>"
      ]
     },
     "execution_count": 20,
     "metadata": {},
     "output_type": "execute_result"
    },
    {
     "data": {
      "image/png": "[encoded data removed]",
      "text/plain": [
       "<matplotlib.figure.Figure at 0x11c803a58>"
      ]
     },
     "metadata": {},
     "output_type": "display_data"
    }
   ],
   "source": [
    "sns.FacetGrid(grad_students_sub,hue=\"Major\",size=5)\\\n",
    ".map(plt.scatter,\"Major_code\",\"Grad_total\")\\\n",
    ".add_legend()"
   ]
  }
 ],
 "metadata": {
  "anaconda-cloud": {},
  "kernelspec": {
   "display_name": "Python [Root]",
   "language": "python",
   "name": "Python [Root]"
  },
  "language_info": {
   "codemirror_mode": {
    "name": "ipython",
    "version": 3
   },
   "file_extension": ".py",
   "mimetype": "text/x-python",
   "name": "python",
   "nbconvert_exporter": "python",
   "pygments_lexer": "ipython3",
   "version": "3.5.2"
  }
 },
 "nbformat": 4,
 "nbformat_minor": 0
}
